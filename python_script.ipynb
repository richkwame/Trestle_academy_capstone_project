{
 "cells": [
  {
   "cell_type": "code",
   "execution_count": 1,
   "metadata": {},
   "outputs": [
    {
     "name": "stdout",
     "output_type": "stream",
     "text": [
      "Requirement already satisfied: requests in c:\\users\\rowus\\anaconda3\\lib\\site-packages (2.31.0)\n",
      "Requirement already satisfied: charset-normalizer<4,>=2 in c:\\users\\rowus\\anaconda3\\lib\\site-packages (from requests) (2.0.4)\n",
      "Requirement already satisfied: idna<4,>=2.5 in c:\\users\\rowus\\anaconda3\\lib\\site-packages (from requests) (3.4)\n",
      "Requirement already satisfied: urllib3<3,>=1.21.1 in c:\\users\\rowus\\anaconda3\\lib\\site-packages (from requests) (2.0.7)\n",
      "Requirement already satisfied: certifi>=2017.4.17 in c:\\users\\rowus\\anaconda3\\lib\\site-packages (from requests) (2024.2.2)\n",
      "Note: you may need to restart the kernel to use updated packages.\n"
     ]
    }
   ],
   "source": [
    "#installing packages\n",
    "pip install requests\n"
   ]
  },
  {
   "cell_type": "code",
   "execution_count": 1,
   "metadata": {},
   "outputs": [
    {
     "name": "stdout",
     "output_type": "stream",
     "text": [
      "{'coord': {'lon': -0.1257, 'lat': 51.5085}, 'weather': [{'id': 803, 'main': 'Clouds', 'description': 'broken clouds', 'icon': '04d'}], 'base': 'stations', 'main': {'temp': 17.13, 'feels_like': 16.33, 'temp_min': 14.92, 'temp_max': 18.47, 'pressure': 1016, 'humidity': 55}, 'visibility': 10000, 'wind': {'speed': 4.12, 'deg': 250}, 'clouds': {'all': 69}, 'dt': 1717674260, 'sys': {'type': 2, 'id': 2075535, 'country': 'GB', 'sunrise': 1717645535, 'sunset': 1717704791}, 'timezone': 3600, 'id': 2643743, 'name': 'London', 'cod': 200}\n"
     ]
    }
   ],
   "source": [
    "# codes to test the performance of API code\n",
    "import requests\n",
    "\n",
    "def fetch_current_weather(london, api_key):\n",
    "    base_url = \"https://api.openweathermap.org/data/2.5/weather\"\n",
    "    params = {\n",
    "        'q': city_name,\n",
    "        'appid': api_key,\n",
    "        'units': 'metric'  # Use 'imperial' for Fahrenheit\n",
    "    }\n",
    "    response = requests.get(base_url, params=params)\n",
    "    if response.status_code == 200:\n",
    "        return response.json()\n",
    "    else:\n",
    "        print(f\"Error: {response.status_code}\")\n",
    "        return None\n",
    "\n",
    "# Example usage\n",
    "api_key = \"8c39c9e3bc47282ae68de3634b955314\"\n",
    "city_name = \"London\"\n",
    "weather_data = fetch_current_weather(city_name, api_key)\n",
    "print(weather_data)\n"
   ]
  },
  {
   "cell_type": "code",
   "execution_count": 2,
   "metadata": {},
   "outputs": [
    {
     "name": "stdout",
     "output_type": "stream",
     "text": [
      "{'cod': '200', 'message': 0, 'cnt': 40, 'list': [{'dt': 1717675200, 'main': {'temp': 17.17, 'feels_like': 16.38, 'temp_min': 17.17, 'temp_max': 17.68, 'pressure': 1016, 'sea_level': 1016, 'grnd_level': 1013, 'humidity': 55, 'temp_kf': -0.51}, 'weather': [{'id': 500, 'main': 'Rain', 'description': 'light rain', 'icon': '10d'}], 'clouds': {'all': 69}, 'wind': {'speed': 3.58, 'deg': 276, 'gust': 4.4}, 'visibility': 10000, 'pop': 0.33, 'rain': {'3h': 0.14}, 'sys': {'pod': 'd'}, 'dt_txt': '2024-06-06 12:00:00'}, {'dt': 1717686000, 'main': {'temp': 17.34, 'feels_like': 16.46, 'temp_min': 17.34, 'temp_max': 17.68, 'pressure': 1016, 'sea_level': 1016, 'grnd_level': 1013, 'humidity': 51, 'temp_kf': -0.34}, 'weather': [{'id': 500, 'main': 'Rain', 'description': 'light rain', 'icon': '10d'}], 'clouds': {'all': 75}, 'wind': {'speed': 3.31, 'deg': 285, 'gust': 4.01}, 'visibility': 10000, 'pop': 0.45, 'rain': {'3h': 0.21}, 'sys': {'pod': 'd'}, 'dt_txt': '2024-06-06 15:00:00'}, {'dt': 1717696800, 'main': {'temp': 16.52, 'feels_like': 15.66, 'temp_min': 16.2, 'temp_max': 16.52, 'pressure': 1017, 'sea_level': 1017, 'grnd_level': 1013, 'humidity': 55, 'temp_kf': 0.32}, 'weather': [{'id': 500, 'main': 'Rain', 'description': 'light rain', 'icon': '10d'}], 'clouds': {'all': 78}, 'wind': {'speed': 3.29, 'deg': 290, 'gust': 4.36}, 'visibility': 10000, 'pop': 0.6, 'rain': {'3h': 0.29}, 'sys': {'pod': 'd'}, 'dt_txt': '2024-06-06 18:00:00'}, {'dt': 1717707600, 'main': {'temp': 13.08, 'feels_like': 12.3, 'temp_min': 13.08, 'temp_max': 13.08, 'pressure': 1019, 'sea_level': 1019, 'grnd_level': 1014, 'humidity': 71, 'temp_kf': 0}, 'weather': [{'id': 800, 'main': 'Clear', 'description': 'clear sky', 'icon': '01n'}], 'clouds': {'all': 7}, 'wind': {'speed': 2.12, 'deg': 279, 'gust': 5.74}, 'visibility': 10000, 'pop': 0, 'sys': {'pod': 'n'}, 'dt_txt': '2024-06-06 21:00:00'}, {'dt': 1717718400, 'main': {'temp': 10.99, 'feels_like': 10.1, 'temp_min': 10.99, 'temp_max': 10.99, 'pressure': 1019, 'sea_level': 1019, 'grnd_level': 1015, 'humidity': 75, 'temp_kf': 0}, 'weather': [{'id': 800, 'main': 'Clear', 'description': 'clear sky', 'icon': '01n'}], 'clouds': {'all': 6}, 'wind': {'speed': 2.32, 'deg': 268, 'gust': 6.22}, 'visibility': 10000, 'pop': 0, 'sys': {'pod': 'n'}, 'dt_txt': '2024-06-07 00:00:00'}, {'dt': 1717729200, 'main': {'temp': 9.32, 'feels_like': 8.6, 'temp_min': 9.32, 'temp_max': 9.32, 'pressure': 1019, 'sea_level': 1019, 'grnd_level': 1014, 'humidity': 80, 'temp_kf': 0}, 'weather': [{'id': 800, 'main': 'Clear', 'description': 'clear sky', 'icon': '01n'}], 'clouds': {'all': 7}, 'wind': {'speed': 1.77, 'deg': 253, 'gust': 4.75}, 'visibility': 10000, 'pop': 0, 'sys': {'pod': 'n'}, 'dt_txt': '2024-06-07 03:00:00'}, {'dt': 1717740000, 'main': {'temp': 10.68, 'feels_like': 9.66, 'temp_min': 10.68, 'temp_max': 10.68, 'pressure': 1019, 'sea_level': 1019, 'grnd_level': 1015, 'humidity': 71, 'temp_kf': 0}, 'weather': [{'id': 800, 'main': 'Clear', 'description': 'clear sky', 'icon': '01d'}], 'clouds': {'all': 10}, 'wind': {'speed': 2.82, 'deg': 240, 'gust': 4.76}, 'visibility': 10000, 'pop': 0, 'sys': {'pod': 'd'}, 'dt_txt': '2024-06-07 06:00:00'}, {'dt': 1717750800, 'main': {'temp': 15.6, 'feels_like': 14.55, 'temp_min': 15.6, 'temp_max': 15.6, 'pressure': 1019, 'sea_level': 1019, 'grnd_level': 1015, 'humidity': 51, 'temp_kf': 0}, 'weather': [{'id': 801, 'main': 'Clouds', 'description': 'few clouds', 'icon': '02d'}], 'clouds': {'all': 12}, 'wind': {'speed': 3.61, 'deg': 250, 'gust': 5.02}, 'visibility': 10000, 'pop': 0, 'sys': {'pod': 'd'}, 'dt_txt': '2024-06-07 09:00:00'}, {'dt': 1717761600, 'main': {'temp': 18.37, 'feels_like': 17.44, 'temp_min': 18.37, 'temp_max': 18.37, 'pressure': 1018, 'sea_level': 1018, 'grnd_level': 1014, 'humidity': 45, 'temp_kf': 0}, 'weather': [{'id': 802, 'main': 'Clouds', 'description': 'scattered clouds', 'icon': '03d'}], 'clouds': {'all': 29}, 'wind': {'speed': 4.81, 'deg': 252, 'gust': 6.33}, 'visibility': 10000, 'pop': 0, 'sys': {'pod': 'd'}, 'dt_txt': '2024-06-07 12:00:00'}, {'dt': 1717772400, 'main': {'temp': 18.56, 'feels_like': 17.86, 'temp_min': 18.56, 'temp_max': 18.56, 'pressure': 1017, 'sea_level': 1017, 'grnd_level': 1013, 'humidity': 53, 'temp_kf': 0}, 'weather': [{'id': 804, 'main': 'Clouds', 'description': 'overcast clouds', 'icon': '04d'}], 'clouds': {'all': 97}, 'wind': {'speed': 5.22, 'deg': 248, 'gust': 7.17}, 'visibility': 10000, 'pop': 0, 'sys': {'pod': 'd'}, 'dt_txt': '2024-06-07 15:00:00'}, {'dt': 1717783200, 'main': {'temp': 16.26, 'feels_like': 15.66, 'temp_min': 16.26, 'temp_max': 16.26, 'pressure': 1016, 'sea_level': 1016, 'grnd_level': 1012, 'humidity': 66, 'temp_kf': 0}, 'weather': [{'id': 500, 'main': 'Rain', 'description': 'light rain', 'icon': '10d'}], 'clouds': {'all': 83}, 'wind': {'speed': 5.16, 'deg': 245, 'gust': 7.74}, 'visibility': 10000, 'pop': 0.2, 'rain': {'3h': 0.25}, 'sys': {'pod': 'd'}, 'dt_txt': '2024-06-07 18:00:00'}, {'dt': 1717794000, 'main': {'temp': 13.91, 'feels_like': 13.47, 'temp_min': 13.91, 'temp_max': 13.91, 'pressure': 1016, 'sea_level': 1016, 'grnd_level': 1012, 'humidity': 81, 'temp_kf': 0}, 'weather': [{'id': 500, 'main': 'Rain', 'description': 'light rain', 'icon': '10n'}], 'clouds': {'all': 47}, 'wind': {'speed': 3.59, 'deg': 258, 'gust': 8.44}, 'visibility': 10000, 'pop': 0.2, 'rain': {'3h': 0.16}, 'sys': {'pod': 'n'}, 'dt_txt': '2024-06-07 21:00:00'}, {'dt': 1717804800, 'main': {'temp': 11.44, 'feels_like': 10.7, 'temp_min': 11.44, 'temp_max': 11.44, 'pressure': 1016, 'sea_level': 1016, 'grnd_level': 1011, 'humidity': 79, 'temp_kf': 0}, 'weather': [{'id': 802, 'main': 'Clouds', 'description': 'scattered clouds', 'icon': '03n'}], 'clouds': {'all': 26}, 'wind': {'speed': 3.72, 'deg': 253, 'gust': 9.33}, 'visibility': 10000, 'pop': 0, 'sys': {'pod': 'n'}, 'dt_txt': '2024-06-08 00:00:00'}, {'dt': 1717815600, 'main': {'temp': 9.82, 'feels_like': 8.22, 'temp_min': 9.82, 'temp_max': 9.82, 'pressure': 1014, 'sea_level': 1014, 'grnd_level': 1010, 'humidity': 84, 'temp_kf': 0}, 'weather': [{'id': 800, 'main': 'Clear', 'description': 'clear sky', 'icon': '01n'}], 'clouds': {'all': 5}, 'wind': {'speed': 3.14, 'deg': 246, 'gust': 9.56}, 'visibility': 10000, 'pop': 0, 'sys': {'pod': 'n'}, 'dt_txt': '2024-06-08 03:00:00'}, {'dt': 1717826400, 'main': {'temp': 11.57, 'feels_like': 10.77, 'temp_min': 11.57, 'temp_max': 11.57, 'pressure': 1014, 'sea_level': 1014, 'grnd_level': 1009, 'humidity': 76, 'temp_kf': 0}, 'weather': [{'id': 800, 'main': 'Clear', 'description': 'clear sky', 'icon': '01d'}], 'clouds': {'all': 6}, 'wind': {'speed': 3.48, 'deg': 259, 'gust': 7.64}, 'visibility': 10000, 'pop': 0, 'sys': {'pod': 'd'}, 'dt_txt': '2024-06-08 06:00:00'}, {'dt': 1717837200, 'main': {'temp': 16.27, 'feels_like': 15.41, 'temp_min': 16.27, 'temp_max': 16.27, 'pressure': 1014, 'sea_level': 1014, 'grnd_level': 1009, 'humidity': 56, 'temp_kf': 0}, 'weather': [{'id': 803, 'main': 'Clouds', 'description': 'broken clouds', 'icon': '04d'}], 'clouds': {'all': 62}, 'wind': {'speed': 3.44, 'deg': 280, 'gust': 5.03}, 'visibility': 10000, 'pop': 0, 'sys': {'pod': 'd'}, 'dt_txt': '2024-06-08 09:00:00'}, {'dt': 1717848000, 'main': {'temp': 17.22, 'feels_like': 16.41, 'temp_min': 17.22, 'temp_max': 17.22, 'pressure': 1013, 'sea_level': 1013, 'grnd_level': 1009, 'humidity': 54, 'temp_kf': 0}, 'weather': [{'id': 500, 'main': 'Rain', 'description': 'light rain', 'icon': '10d'}], 'clouds': {'all': 74}, 'wind': {'speed': 3.66, 'deg': 300, 'gust': 4.63}, 'visibility': 10000, 'pop': 0.2, 'rain': {'3h': 0.15}, 'sys': {'pod': 'd'}, 'dt_txt': '2024-06-08 12:00:00'}, {'dt': 1717858800, 'main': {'temp': 16.7, 'feels_like': 15.97, 'temp_min': 16.7, 'temp_max': 16.7, 'pressure': 1013, 'sea_level': 1013, 'grnd_level': 1009, 'humidity': 59, 'temp_kf': 0}, 'weather': [{'id': 500, 'main': 'Rain', 'description': 'light rain', 'icon': '10d'}], 'clouds': {'all': 100}, 'wind': {'speed': 3.96, 'deg': 307, 'gust': 4.43}, 'visibility': 10000, 'pop': 1, 'rain': {'3h': 0.33}, 'sys': {'pod': 'd'}, 'dt_txt': '2024-06-08 15:00:00'}, {'dt': 1717869600, 'main': {'temp': 17.18, 'feels_like': 16.18, 'temp_min': 17.18, 'temp_max': 17.18, 'pressure': 1013, 'sea_level': 1013, 'grnd_level': 1009, 'humidity': 47, 'temp_kf': 0}, 'weather': [{'id': 500, 'main': 'Rain', 'description': 'light rain', 'icon': '10d'}], 'clouds': {'all': 83}, 'wind': {'speed': 3.99, 'deg': 307, 'gust': 5.48}, 'visibility': 10000, 'pop': 0.2, 'rain': {'3h': 0.1}, 'sys': {'pod': 'd'}, 'dt_txt': '2024-06-08 18:00:00'}, {'dt': 1717880400, 'main': {'temp': 12.99, 'feels_like': 11.94, 'temp_min': 12.99, 'temp_max': 12.99, 'pressure': 1015, 'sea_level': 1015, 'grnd_level': 1011, 'humidity': 61, 'temp_kf': 0}, 'weather': [{'id': 800, 'main': 'Clear', 'description': 'clear sky', 'icon': '01n'}], 'clouds': {'all': 7}, 'wind': {'speed': 3.64, 'deg': 352, 'gust': 8.16}, 'visibility': 10000, 'pop': 0, 'sys': {'pod': 'n'}, 'dt_txt': '2024-06-08 21:00:00'}, {'dt': 1717891200, 'main': {'temp': 10.79, 'feels_like': 9.49, 'temp_min': 10.79, 'temp_max': 10.79, 'pressure': 1016, 'sea_level': 1016, 'grnd_level': 1011, 'humidity': 60, 'temp_kf': 0}, 'weather': [{'id': 800, 'main': 'Clear', 'description': 'clear sky', 'icon': '01n'}], 'clouds': {'all': 3}, 'wind': {'speed': 2.5, 'deg': 345, 'gust': 8.94}, 'visibility': 10000, 'pop': 0, 'sys': {'pod': 'n'}, 'dt_txt': '2024-06-09 00:00:00'}, {'dt': 1717902000, 'main': {'temp': 9.01, 'feels_like': 9.01, 'temp_min': 9.01, 'temp_max': 9.01, 'pressure': 1015, 'sea_level': 1015, 'grnd_level': 1011, 'humidity': 71, 'temp_kf': 0}, 'weather': [{'id': 800, 'main': 'Clear', 'description': 'clear sky', 'icon': '01n'}], 'clouds': {'all': 0}, 'wind': {'speed': 1.13, 'deg': 305, 'gust': 2.52}, 'visibility': 10000, 'pop': 0, 'sys': {'pod': 'n'}, 'dt_txt': '2024-06-09 03:00:00'}, {'dt': 1717912800, 'main': {'temp': 10.45, 'feels_like': 9.33, 'temp_min': 10.45, 'temp_max': 10.45, 'pressure': 1016, 'sea_level': 1016, 'grnd_level': 1011, 'humidity': 68, 'temp_kf': 0}, 'weather': [{'id': 800, 'main': 'Clear', 'description': 'clear sky', 'icon': '01d'}], 'clouds': {'all': 1}, 'wind': {'speed': 1.49, 'deg': 299, 'gust': 2.38}, 'visibility': 10000, 'pop': 0, 'sys': {'pod': 'd'}, 'dt_txt': '2024-06-09 06:00:00'}, {'dt': 1717923600, 'main': {'temp': 14.82, 'feels_like': 13.58, 'temp_min': 14.82, 'temp_max': 14.82, 'pressure': 1014, 'sea_level': 1014, 'grnd_level': 1010, 'humidity': 47, 'temp_kf': 0}, 'weather': [{'id': 800, 'main': 'Clear', 'description': 'clear sky', 'icon': '01d'}], 'clouds': {'all': 5}, 'wind': {'speed': 2.97, 'deg': 300, 'gust': 4.11}, 'visibility': 10000, 'pop': 0, 'sys': {'pod': 'd'}, 'dt_txt': '2024-06-09 09:00:00'}, {'dt': 1717934400, 'main': {'temp': 17.91, 'feels_like': 16.77, 'temp_min': 17.91, 'temp_max': 17.91, 'pressure': 1013, 'sea_level': 1013, 'grnd_level': 1009, 'humidity': 39, 'temp_kf': 0}, 'weather': [{'id': 800, 'main': 'Clear', 'description': 'clear sky', 'icon': '01d'}], 'clouds': {'all': 7}, 'wind': {'speed': 3.95, 'deg': 289, 'gust': 4.99}, 'visibility': 10000, 'pop': 0, 'sys': {'pod': 'd'}, 'dt_txt': '2024-06-09 12:00:00'}, {'dt': 1717945200, 'main': {'temp': 17.44, 'feels_like': 16.39, 'temp_min': 17.44, 'temp_max': 17.44, 'pressure': 1012, 'sea_level': 1012, 'grnd_level': 1008, 'humidity': 44, 'temp_kf': 0}, 'weather': [{'id': 802, 'main': 'Clouds', 'description': 'scattered clouds', 'icon': '03d'}], 'clouds': {'all': 36}, 'wind': {'speed': 4.67, 'deg': 291, 'gust': 6.6}, 'visibility': 10000, 'pop': 0, 'sys': {'pod': 'd'}, 'dt_txt': '2024-06-09 15:00:00'}, {'dt': 1717956000, 'main': {'temp': 15.05, 'feels_like': 14.18, 'temp_min': 15.05, 'temp_max': 15.05, 'pressure': 1012, 'sea_level': 1012, 'grnd_level': 1008, 'humidity': 60, 'temp_kf': 0}, 'weather': [{'id': 803, 'main': 'Clouds', 'description': 'broken clouds', 'icon': '04d'}], 'clouds': {'all': 67}, 'wind': {'speed': 4.14, 'deg': 274, 'gust': 6.52}, 'visibility': 10000, 'pop': 0, 'sys': {'pod': 'd'}, 'dt_txt': '2024-06-09 18:00:00'}, {'dt': 1717966800, 'main': {'temp': 13.44, 'feels_like': 12.75, 'temp_min': 13.44, 'temp_max': 13.44, 'pressure': 1012, 'sea_level': 1012, 'grnd_level': 1008, 'humidity': 73, 'temp_kf': 0}, 'weather': [{'id': 804, 'main': 'Clouds', 'description': 'overcast clouds', 'icon': '04n'}], 'clouds': {'all': 94}, 'wind': {'speed': 3.42, 'deg': 255, 'gust': 7.26}, 'visibility': 10000, 'pop': 0, 'sys': {'pod': 'n'}, 'dt_txt': '2024-06-09 21:00:00'}, {'dt': 1717977600, 'main': {'temp': 11.87, 'feels_like': 11.1, 'temp_min': 11.87, 'temp_max': 11.87, 'pressure': 1011, 'sea_level': 1011, 'grnd_level': 1007, 'humidity': 76, 'temp_kf': 0}, 'weather': [{'id': 804, 'main': 'Clouds', 'description': 'overcast clouds', 'icon': '04n'}], 'clouds': {'all': 90}, 'wind': {'speed': 3.44, 'deg': 233, 'gust': 8.45}, 'visibility': 10000, 'pop': 0, 'sys': {'pod': 'n'}, 'dt_txt': '2024-06-10 00:00:00'}, {'dt': 1717988400, 'main': {'temp': 11.89, 'feels_like': 11.2, 'temp_min': 11.89, 'temp_max': 11.89, 'pressure': 1009, 'sea_level': 1009, 'grnd_level': 1005, 'humidity': 79, 'temp_kf': 0}, 'weather': [{'id': 804, 'main': 'Clouds', 'description': 'overcast clouds', 'icon': '04n'}], 'clouds': {'all': 100}, 'wind': {'speed': 3.89, 'deg': 232, 'gust': 10.01}, 'visibility': 10000, 'pop': 0, 'sys': {'pod': 'n'}, 'dt_txt': '2024-06-10 03:00:00'}, {'dt': 1717999200, 'main': {'temp': 11.67, 'feels_like': 11.22, 'temp_min': 11.67, 'temp_max': 11.67, 'pressure': 1009, 'sea_level': 1009, 'grnd_level': 1005, 'humidity': 89, 'temp_kf': 0}, 'weather': [{'id': 500, 'main': 'Rain', 'description': 'light rain', 'icon': '10d'}], 'clouds': {'all': 100}, 'wind': {'speed': 2.49, 'deg': 233, 'gust': 6.55}, 'visibility': 10000, 'pop': 0.2, 'rain': {'3h': 0.24}, 'sys': {'pod': 'd'}, 'dt_txt': '2024-06-10 06:00:00'}, {'dt': 1718010000, 'main': {'temp': 11.97, 'feels_like': 11.73, 'temp_min': 11.97, 'temp_max': 11.97, 'pressure': 1009, 'sea_level': 1009, 'grnd_level': 1004, 'humidity': 96, 'temp_kf': 0}, 'weather': [{'id': 501, 'main': 'Rain', 'description': 'moderate rain', 'icon': '10d'}], 'clouds': {'all': 100}, 'wind': {'speed': 1.63, 'deg': 227, 'gust': 6.57}, 'visibility': 10000, 'pop': 1, 'rain': {'3h': 3.12}, 'sys': {'pod': 'd'}, 'dt_txt': '2024-06-10 09:00:00'}, {'dt': 1718020800, 'main': {'temp': 12.82, 'feels_like': 12.53, 'temp_min': 12.82, 'temp_max': 12.82, 'pressure': 1008, 'sea_level': 1008, 'grnd_level': 1004, 'humidity': 91, 'temp_kf': 0}, 'weather': [{'id': 500, 'main': 'Rain', 'description': 'light rain', 'icon': '10d'}], 'clouds': {'all': 100}, 'wind': {'speed': 3.55, 'deg': 256, 'gust': 8.59}, 'visibility': 10000, 'pop': 1, 'rain': {'3h': 0.96}, 'sys': {'pod': 'd'}, 'dt_txt': '2024-06-10 12:00:00'}, {'dt': 1718031600, 'main': {'temp': 12.62, 'feels_like': 12.24, 'temp_min': 12.62, 'temp_max': 12.62, 'pressure': 1008, 'sea_level': 1008, 'grnd_level': 1004, 'humidity': 88, 'temp_kf': 0}, 'weather': [{'id': 500, 'main': 'Rain', 'description': 'light rain', 'icon': '10d'}], 'clouds': {'all': 99}, 'wind': {'speed': 3.53, 'deg': 334, 'gust': 4.48}, 'visibility': 10000, 'pop': 1, 'rain': {'3h': 0.52}, 'sys': {'pod': 'd'}, 'dt_txt': '2024-06-10 15:00:00'}, {'dt': 1718042400, 'main': {'temp': 9.93, 'feels_like': 8.33, 'temp_min': 9.93, 'temp_max': 9.93, 'pressure': 1010, 'sea_level': 1010, 'grnd_level': 1006, 'humidity': 87, 'temp_kf': 0}, 'weather': [{'id': 500, 'main': 'Rain', 'description': 'light rain', 'icon': '10d'}], 'clouds': {'all': 99}, 'wind': {'speed': 3.18, 'deg': 358, 'gust': 5.7}, 'visibility': 10000, 'pop': 0.64, 'rain': {'3h': 0.14}, 'sys': {'pod': 'd'}, 'dt_txt': '2024-06-10 18:00:00'}, {'dt': 1718053200, 'main': {'temp': 9.72, 'feels_like': 8.62, 'temp_min': 9.72, 'temp_max': 9.72, 'pressure': 1012, 'sea_level': 1012, 'grnd_level': 1007, 'humidity': 89, 'temp_kf': 0}, 'weather': [{'id': 500, 'main': 'Rain', 'description': 'light rain', 'icon': '10n'}], 'clouds': {'all': 100}, 'wind': {'speed': 2.32, 'deg': 343, 'gust': 5.27}, 'visibility': 10000, 'pop': 0.2, 'rain': {'3h': 0.14}, 'sys': {'pod': 'n'}, 'dt_txt': '2024-06-10 21:00:00'}, {'dt': 1718064000, 'main': {'temp': 9.48, 'feels_like': 8.84, 'temp_min': 9.48, 'temp_max': 9.48, 'pressure': 1012, 'sea_level': 1012, 'grnd_level': 1008, 'humidity': 90, 'temp_kf': 0}, 'weather': [{'id': 804, 'main': 'Clouds', 'description': 'overcast clouds', 'icon': '04n'}], 'clouds': {'all': 100}, 'wind': {'speed': 1.71, 'deg': 353, 'gust': 3.77}, 'visibility': 10000, 'pop': 0, 'sys': {'pod': 'n'}, 'dt_txt': '2024-06-11 00:00:00'}, {'dt': 1718074800, 'main': {'temp': 9.24, 'feels_like': 7.87, 'temp_min': 9.24, 'temp_max': 9.24, 'pressure': 1012, 'sea_level': 1012, 'grnd_level': 1008, 'humidity': 87, 'temp_kf': 0}, 'weather': [{'id': 804, 'main': 'Clouds', 'description': 'overcast clouds', 'icon': '04n'}], 'clouds': {'all': 100}, 'wind': {'speed': 2.57, 'deg': 2, 'gust': 7.06}, 'visibility': 10000, 'pop': 0, 'sys': {'pod': 'n'}, 'dt_txt': '2024-06-11 03:00:00'}, {'dt': 1718085600, 'main': {'temp': 9.22, 'feels_like': 7.24, 'temp_min': 9.22, 'temp_max': 9.22, 'pressure': 1013, 'sea_level': 1013, 'grnd_level': 1009, 'humidity': 84, 'temp_kf': 0}, 'weather': [{'id': 804, 'main': 'Clouds', 'description': 'overcast clouds', 'icon': '04d'}], 'clouds': {'all': 100}, 'wind': {'speed': 3.61, 'deg': 4, 'gust': 7.12}, 'visibility': 10000, 'pop': 0, 'sys': {'pod': 'd'}, 'dt_txt': '2024-06-11 06:00:00'}, {'dt': 1718096400, 'main': {'temp': 11.54, 'feels_like': 10.92, 'temp_min': 11.54, 'temp_max': 11.54, 'pressure': 1014, 'sea_level': 1014, 'grnd_level': 1009, 'humidity': 83, 'temp_kf': 0}, 'weather': [{'id': 500, 'main': 'Rain', 'description': 'light rain', 'icon': '10d'}], 'clouds': {'all': 100}, 'wind': {'speed': 3.25, 'deg': 8, 'gust': 4.74}, 'visibility': 9541, 'pop': 1, 'rain': {'3h': 0.54}, 'sys': {'pod': 'd'}, 'dt_txt': '2024-06-11 09:00:00'}], 'city': {'id': 2643743, 'name': 'London', 'coord': {'lat': 51.5085, 'lon': -0.1257}, 'country': 'GB', 'population': 1000000, 'timezone': 3600, 'sunrise': 1717645535, 'sunset': 1717704791}}\n"
     ]
    }
   ],
   "source": [
    "import requests\n",
    "\n",
    "def fetch_forecast_weather(city_name, api_key):\n",
    "    base_url = \"https://api.openweathermap.org/data/2.5/forecast\"\n",
    "    params = {\n",
    "        'q': city_name,\n",
    "        'appid': api_key,\n",
    "        'units': 'metric'\n",
    "    }\n",
    "    response = requests.get(base_url, params=params)\n",
    "    if response.status_code == 200:\n",
    "        return response.json()\n",
    "    else:\n",
    "        print(f\"Error: {response.status_code}\")\n",
    "        return None\n",
    "\n",
    "# Example usage\n",
    "api_key = \"8c39c9e3bc47282ae68de3634b955314\"\n",
    "city_name = \"London\"\n",
    "forecast_data = fetch_forecast_weather(city_name, api_key)\n",
    "print(forecast_data)\n"
   ]
  },
  {
   "cell_type": "code",
   "execution_count": 2,
   "metadata": {},
   "outputs": [
    {
     "name": "stdout",
     "output_type": "stream",
     "text": [
      "Fernet key: JaaHoCKFOng4GSsXVO75Fhz0rqtpjzIi8OYTP9BXoR0=\n",
      "Secret key: cb87ff205927516d66ece37dcf479f428e1651a7a48f9a03edcd2ea66331d7f4\n"
     ]
    }
   ],
   "source": [
    "# the code generate fernet key for the docker compose file\n",
    "from cryptography.fernet import Fernet\n",
    "import os\n",
    "\n",
    "# Generate a Fernet key\n",
    "fernet_key = Fernet.generate_key()\n",
    "\n",
    "# Generate a secret key\n",
    "secret_key = os.urandom(32)\n",
    "\n",
    "print(\"Fernet key:\", fernet_key.decode())\n",
    "print(\"Secret key:\", secret_key.hex())\n"
   ]
  },
  {
   "cell_type": "code",
   "execution_count": 1,
   "metadata": {},
   "outputs": [
    {
     "ename": "ModuleNotFoundError",
     "evalue": "No module named 'airflow'",
     "output_type": "error",
     "traceback": [
      "\u001b[1;31m---------------------------------------------------------------------------\u001b[0m",
      "\u001b[1;31mModuleNotFoundError\u001b[0m                       Traceback (most recent call last)",
      "Cell \u001b[1;32mIn[1], line 1\u001b[0m\n\u001b[1;32m----> 1\u001b[0m \u001b[38;5;28;01mfrom\u001b[39;00m \u001b[38;5;21;01mairflow\u001b[39;00m \u001b[38;5;28;01mimport\u001b[39;00m DAG\n\u001b[0;32m      2\u001b[0m \u001b[38;5;28;01mfrom\u001b[39;00m \u001b[38;5;21;01mairflow\u001b[39;00m\u001b[38;5;21;01m.\u001b[39;00m\u001b[38;5;21;01moperators\u001b[39;00m\u001b[38;5;21;01m.\u001b[39;00m\u001b[38;5;21;01memail_operator\u001b[39;00m \u001b[38;5;28;01mimport\u001b[39;00m EmailOperator\n\u001b[0;32m      3\u001b[0m \u001b[38;5;28;01mfrom\u001b[39;00m \u001b[38;5;21;01mdatetime\u001b[39;00m \u001b[38;5;28;01mimport\u001b[39;00m datetime\n",
      "\u001b[1;31mModuleNotFoundError\u001b[0m: No module named 'airflow'"
     ]
    }
   ],
   "source": [
    "from airflow import DAG\n",
    "from airflow.operators.email_operator import EmailOperator\n",
    "from datetime import datetime\n",
    "\n",
    "default_args = {\n",
    "    'owner': 'airflow',\n",
    "    'start_date': datetime(2024, 6, 7),\n",
    "    'email_on_failure': False,\n",
    "    'email_on_retry': False,\n",
    "}\n",
    "\n",
    "dag = DAG(\n",
    "    'test_email',\n",
    "    default_args=default_args,\n",
    "    description='A simple test DAG to verify email configuration',\n",
    "    schedule_interval=None,\n",
    ")\n",
    "\n",
    "send_email = EmailOperator(\n",
    "    task_id='send_email',\n",
    "    to='rowusu094@gmail.com',\n",
    "    subject='Test Email from Airflow',\n",
    "    html_content='<p>This is a test email sent from Airflow.</p>',\n",
    "    dag=dag,\n",
    ")\n"
   ]
  },
  {
   "cell_type": "code",
   "execution_count": 4,
   "metadata": {},
   "outputs": [
    {
     "name": "stdout",
     "output_type": "stream",
     "text": [
      "Failed to send email: (534, b'5.7.9 Application-specific password required. For more information, go to\\n5.7.9  https://support.google.com/mail/?p=InvalidSecondFactor a640c23a62f3a-a6c805d2882sm208210066b.90 - gsmtp')\n"
     ]
    }
   ],
   "source": [
    "import smtplib\n",
    "import ssl\n",
    "\n",
    "smtp_host = 'smtp.gmail.com'\n",
    "smtp_port = 587\n",
    "smtp_user = 'rowusu094@gmail.com'\n",
    "smtp_password = 'pi=3.142'\n",
    "\n",
    "context = ssl.create_default_context()\n",
    "\n",
    "try:\n",
    "    server = smtplib.SMTP(smtp_host, smtp_port)\n",
    "    server.ehlo()  # Can be omitted\n",
    "    server.starttls(context=context)\n",
    "    server.ehlo()  # Can be omitted\n",
    "    server.login(smtp_user, smtp_password)\n",
    "    message = 'Subject: {}\\n\\n{}'.format('Test Email', 'This is a test email.')\n",
    "    server.sendmail(smtp_user, 'rowusu094@gmail.com', message)\n",
    "    server.quit()\n",
    "    print(\"Email sent successfully\")\n",
    "except Exception as e:\n",
    "    print(f\"Failed to send email: {e}\")\n"
   ]
  },
  {
   "cell_type": "code",
   "execution_count": null,
   "metadata": {},
   "outputs": [],
   "source": []
  }
 ],
 "metadata": {
  "kernelspec": {
   "display_name": "Python 3",
   "language": "python",
   "name": "python3"
  },
  "language_info": {
   "codemirror_mode": {
    "name": "ipython",
    "version": 3
   },
   "file_extension": ".py",
   "mimetype": "text/x-python",
   "name": "python",
   "nbconvert_exporter": "python",
   "pygments_lexer": "ipython3",
   "version": "3.11.7"
  }
 },
 "nbformat": 4,
 "nbformat_minor": 2
}
